{
 "cells": [
  {
   "cell_type": "code",
   "execution_count": 1,
   "metadata": {
    "collapsed": true
   },
   "outputs": [],
   "source": [
    "import numpy as np\n",
    "import pandas as pd\n",
    "import missingno as msno\n",
    "import re\n",
    "%matplotlib inline"
   ]
  },
  {
   "cell_type": "code",
   "execution_count": 2,
   "metadata": {
    "collapsed": true
   },
   "outputs": [],
   "source": [
    "import matplotlib.pyplot as plt"
   ]
  },
  {
   "cell_type": "markdown",
   "metadata": {},
   "source": [
    "- Going through the EyeQ raw data for column  definitions. These definitions will help us what spire machines are doing actually. \n",
    "- Possible initial questions: \n",
    "    - How many machines does the dataset have recorded?\n",
    "    - How many distinct user_id assigned by the machine? Remember that the same customer might be assigned to different ids.\n",
    "    - What time/day span do we have in this dataset? Think about random sampling. We will try to generalize the findings from this dataset.  \n",
    "\n",
    "- Main question will be to classify feelings (happiness, surprising, sad, and angry) based on chosen flavor and additional variables. \n",
    "    - Think about grouping consumers into different categories (i.e. feelings) with personal differences (age, gender, etc.).\n",
    "    - For this purpose, it might be better approach to use all data, observations, even the same u_id assigned to the same person with different personal features.  "
   ]
  },
  {
   "cell_type": "code",
   "execution_count": 3,
   "metadata": {
    "collapsed": true
   },
   "outputs": [],
   "source": [
    "eyeq = pd.read_csv(\"EyeQdata_raw.csv\")\n",
    "spire = pd.read_csv('SpireData_Raw.csv')"
   ]
  },
  {
   "cell_type": "code",
   "execution_count": 4,
   "metadata": {
    "collapsed": true
   },
   "outputs": [],
   "source": [
    "pd.options.display.max_columns = 30\n",
    "pd.set_option('display.max_rows', 500)"
   ]
  },
  {
   "cell_type": "code",
   "execution_count": 17,
   "metadata": {},
   "outputs": [
    {
     "data": {
      "text/html": [
       "<div>\n",
       "<style>\n",
       "    .dataframe thead tr:only-child th {\n",
       "        text-align: right;\n",
       "    }\n",
       "\n",
       "    .dataframe thead th {\n",
       "        text-align: left;\n",
       "    }\n",
       "\n",
       "    .dataframe tbody tr th {\n",
       "        vertical-align: top;\n",
       "    }\n",
       "</style>\n",
       "<table border=\"1\" class=\"dataframe\">\n",
       "  <thead>\n",
       "    <tr style=\"text-align: right;\">\n",
       "      <th></th>\n",
       "      <th>ID</th>\n",
       "      <th>Unnamed: 1</th>\n",
       "      <th>loc_id</th>\n",
       "      <th>place_id</th>\n",
       "      <th>u_id</th>\n",
       "      <th>age</th>\n",
       "      <th>age_c</th>\n",
       "      <th>happy</th>\n",
       "      <th>p_count</th>\n",
       "      <th>face_size</th>\n",
       "      <th>x</th>\n",
       "      <th>y</th>\n",
       "      <th>f_count</th>\n",
       "      <th>capture_time</th>\n",
       "      <th>local_time</th>\n",
       "      <th>Capture Time 15 Second Level</th>\n",
       "      <th>Capture time minute level</th>\n",
       "      <th>time_zone</th>\n",
       "      <th>gender</th>\n",
       "      <th>anger</th>\n",
       "      <th>surprise</th>\n",
       "      <th>sad</th>\n",
       "    </tr>\n",
       "  </thead>\n",
       "  <tbody>\n",
       "    <tr>\n",
       "      <th>0</th>\n",
       "      <td>1</td>\n",
       "      <td>27137</td>\n",
       "      <td>28</td>\n",
       "      <td>36</td>\n",
       "      <td>0-1495283337</td>\n",
       "      <td>64</td>\n",
       "      <td>11</td>\n",
       "      <td>NaN</td>\n",
       "      <td>1</td>\n",
       "      <td>2.56042</td>\n",
       "      <td>41</td>\n",
       "      <td>59</td>\n",
       "      <td>1</td>\n",
       "      <td>5/20/2017 7:28</td>\n",
       "      <td>5/20/2017 2:28:57</td>\n",
       "      <td>5/20/2017 7:29:00</td>\n",
       "      <td>5/20/2017 7:29:00</td>\n",
       "      <td>-5</td>\n",
       "      <td>NaN</td>\n",
       "      <td>NaN</td>\n",
       "      <td>NaN</td>\n",
       "      <td>NaN</td>\n",
       "    </tr>\n",
       "    <tr>\n",
       "      <th>1</th>\n",
       "      <td>2</td>\n",
       "      <td>27138</td>\n",
       "      <td>28</td>\n",
       "      <td>36</td>\n",
       "      <td>0-1495283337</td>\n",
       "      <td>64</td>\n",
       "      <td>11</td>\n",
       "      <td>NaN</td>\n",
       "      <td>1</td>\n",
       "      <td>2.54076</td>\n",
       "      <td>42</td>\n",
       "      <td>56</td>\n",
       "      <td>1</td>\n",
       "      <td>5/20/2017 7:28</td>\n",
       "      <td>5/20/2017 2:28:57</td>\n",
       "      <td>5/20/2017 7:29:00</td>\n",
       "      <td>5/20/2017 7:29:00</td>\n",
       "      <td>-5</td>\n",
       "      <td>1.0</td>\n",
       "      <td>NaN</td>\n",
       "      <td>NaN</td>\n",
       "      <td>NaN</td>\n",
       "    </tr>\n",
       "    <tr>\n",
       "      <th>2</th>\n",
       "      <td>3</td>\n",
       "      <td>27139</td>\n",
       "      <td>28</td>\n",
       "      <td>36</td>\n",
       "      <td>1-1495283337</td>\n",
       "      <td>67</td>\n",
       "      <td>11</td>\n",
       "      <td>NaN</td>\n",
       "      <td>1</td>\n",
       "      <td>2.29211</td>\n",
       "      <td>50</td>\n",
       "      <td>44</td>\n",
       "      <td>1</td>\n",
       "      <td>5/20/2017 7:28</td>\n",
       "      <td>5/20/2017 2:28:57</td>\n",
       "      <td>5/20/2017 7:29:00</td>\n",
       "      <td>5/20/2017 7:29:00</td>\n",
       "      <td>-5</td>\n",
       "      <td>1.0</td>\n",
       "      <td>15.0</td>\n",
       "      <td>NaN</td>\n",
       "      <td>NaN</td>\n",
       "    </tr>\n",
       "    <tr>\n",
       "      <th>3</th>\n",
       "      <td>4</td>\n",
       "      <td>27136</td>\n",
       "      <td>28</td>\n",
       "      <td>36</td>\n",
       "      <td>1-1495283337</td>\n",
       "      <td>67</td>\n",
       "      <td>11</td>\n",
       "      <td>NaN</td>\n",
       "      <td>1</td>\n",
       "      <td>2.02110</td>\n",
       "      <td>51</td>\n",
       "      <td>38</td>\n",
       "      <td>1</td>\n",
       "      <td>5/20/2017 7:28</td>\n",
       "      <td>5/20/2017 2:28:58</td>\n",
       "      <td>5/20/2017 7:29:00</td>\n",
       "      <td>5/20/2017 7:29:00</td>\n",
       "      <td>-5</td>\n",
       "      <td>1.0</td>\n",
       "      <td>NaN</td>\n",
       "      <td>NaN</td>\n",
       "      <td>NaN</td>\n",
       "    </tr>\n",
       "    <tr>\n",
       "      <th>4</th>\n",
       "      <td>5</td>\n",
       "      <td>27134</td>\n",
       "      <td>28</td>\n",
       "      <td>36</td>\n",
       "      <td>2-1495283339</td>\n",
       "      <td>70</td>\n",
       "      <td>5</td>\n",
       "      <td>NaN</td>\n",
       "      <td>1</td>\n",
       "      <td>1.21359</td>\n",
       "      <td>58</td>\n",
       "      <td>44</td>\n",
       "      <td>1</td>\n",
       "      <td>5/20/2017 7:28</td>\n",
       "      <td>5/20/2017 2:28:59</td>\n",
       "      <td>5/20/2017 7:29:00</td>\n",
       "      <td>5/20/2017 7:29:00</td>\n",
       "      <td>-5</td>\n",
       "      <td>NaN</td>\n",
       "      <td>NaN</td>\n",
       "      <td>NaN</td>\n",
       "      <td>NaN</td>\n",
       "    </tr>\n",
       "  </tbody>\n",
       "</table>\n",
       "</div>"
      ],
      "text/plain": [
       "   ID  Unnamed: 1  loc_id  place_id          u_id  age  age_c  happy  p_count  \\\n",
       "0   1       27137      28        36  0-1495283337   64     11    NaN        1   \n",
       "1   2       27138      28        36  0-1495283337   64     11    NaN        1   \n",
       "2   3       27139      28        36  1-1495283337   67     11    NaN        1   \n",
       "3   4       27136      28        36  1-1495283337   67     11    NaN        1   \n",
       "4   5       27134      28        36  2-1495283339   70      5    NaN        1   \n",
       "\n",
       "   face_size   x   y  f_count    capture_time         local_time  \\\n",
       "0    2.56042  41  59        1  5/20/2017 7:28  5/20/2017 2:28:57   \n",
       "1    2.54076  42  56        1  5/20/2017 7:28  5/20/2017 2:28:57   \n",
       "2    2.29211  50  44        1  5/20/2017 7:28  5/20/2017 2:28:57   \n",
       "3    2.02110  51  38        1  5/20/2017 7:28  5/20/2017 2:28:58   \n",
       "4    1.21359  58  44        1  5/20/2017 7:28  5/20/2017 2:28:59   \n",
       "\n",
       "  Capture Time 15 Second Level Capture time minute level  time_zone  gender  \\\n",
       "0            5/20/2017 7:29:00         5/20/2017 7:29:00         -5     NaN   \n",
       "1            5/20/2017 7:29:00         5/20/2017 7:29:00         -5     1.0   \n",
       "2            5/20/2017 7:29:00         5/20/2017 7:29:00         -5     1.0   \n",
       "3            5/20/2017 7:29:00         5/20/2017 7:29:00         -5     1.0   \n",
       "4            5/20/2017 7:29:00         5/20/2017 7:29:00         -5     NaN   \n",
       "\n",
       "   anger  surprise  sad  \n",
       "0    NaN       NaN  NaN  \n",
       "1    NaN       NaN  NaN  \n",
       "2   15.0       NaN  NaN  \n",
       "3    NaN       NaN  NaN  \n",
       "4    NaN       NaN  NaN  "
      ]
     },
     "execution_count": 17,
     "metadata": {},
     "output_type": "execute_result"
    }
   ],
   "source": [
    "eyeq.head()"
   ]
  },
  {
   "cell_type": "code",
   "execution_count": 12,
   "metadata": {},
   "outputs": [
    {
     "data": {
      "text/html": [
       "<div>\n",
       "<style>\n",
       "    .dataframe thead tr:only-child th {\n",
       "        text-align: right;\n",
       "    }\n",
       "\n",
       "    .dataframe thead th {\n",
       "        text-align: left;\n",
       "    }\n",
       "\n",
       "    .dataframe tbody tr th {\n",
       "        vertical-align: top;\n",
       "    }\n",
       "</style>\n",
       "<table border=\"1\" class=\"dataframe\">\n",
       "  <thead>\n",
       "    <tr style=\"text-align: right;\">\n",
       "      <th></th>\n",
       "      <th>ID</th>\n",
       "      <th>RCPE_NM</th>\n",
       "      <th>EQPMT_TX_DTM</th>\n",
       "      <th>EQPMT_TX_ID</th>\n",
       "      <th>RCPE_ID</th>\n",
       "      <th>INVEN_TX_CMPNT_QTY</th>\n",
       "      <th>Time 15 Second Level</th>\n",
       "      <th>Time Minute Level</th>\n",
       "    </tr>\n",
       "  </thead>\n",
       "  <tbody>\n",
       "    <tr>\n",
       "      <th>0</th>\n",
       "      <td>1</td>\n",
       "      <td>Water</td>\n",
       "      <td>5/21/2017 9:52</td>\n",
       "      <td>24982601</td>\n",
       "      <td>58</td>\n",
       "      <td>10.9302</td>\n",
       "      <td>5/21/17 9:52:45</td>\n",
       "      <td>5/21/17 9:53:00</td>\n",
       "    </tr>\n",
       "    <tr>\n",
       "      <th>1</th>\n",
       "      <td>2</td>\n",
       "      <td>Water</td>\n",
       "      <td>5/21/2017 9:54</td>\n",
       "      <td>24982563</td>\n",
       "      <td>58</td>\n",
       "      <td>10.2326</td>\n",
       "      <td>5/21/17 9:54:15</td>\n",
       "      <td>5/21/17 9:54:00</td>\n",
       "    </tr>\n",
       "    <tr>\n",
       "      <th>2</th>\n",
       "      <td>3</td>\n",
       "      <td>Water</td>\n",
       "      <td>5/21/2017 9:54</td>\n",
       "      <td>24982594</td>\n",
       "      <td>58</td>\n",
       "      <td>8.6047</td>\n",
       "      <td>5/21/17 9:54:15</td>\n",
       "      <td>5/21/17 9:54:00</td>\n",
       "    </tr>\n",
       "    <tr>\n",
       "      <th>3</th>\n",
       "      <td>4</td>\n",
       "      <td>Sobe Yumberry Pomegranate</td>\n",
       "      <td>5/21/2017 9:55</td>\n",
       "      <td>24982611</td>\n",
       "      <td>49</td>\n",
       "      <td>5.5012</td>\n",
       "      <td>5/21/17 9:55:30</td>\n",
       "      <td>5/21/17 9:55:00</td>\n",
       "    </tr>\n",
       "    <tr>\n",
       "      <th>4</th>\n",
       "      <td>5</td>\n",
       "      <td>Sobe Yumberry Pomegranate|LMN</td>\n",
       "      <td>5/21/2017 9:55</td>\n",
       "      <td>24982524</td>\n",
       "      <td>4228</td>\n",
       "      <td>3.3307</td>\n",
       "      <td>5/21/17 9:55:30</td>\n",
       "      <td>5/21/17 9:55:00</td>\n",
       "    </tr>\n",
       "  </tbody>\n",
       "</table>\n",
       "</div>"
      ],
      "text/plain": [
       "   ID                        RCPE_NM    EQPMT_TX_DTM  EQPMT_TX_ID  RCPE_ID  \\\n",
       "0   1                          Water  5/21/2017 9:52     24982601       58   \n",
       "1   2                          Water  5/21/2017 9:54     24982563       58   \n",
       "2   3                          Water  5/21/2017 9:54     24982594       58   \n",
       "3   4      Sobe Yumberry Pomegranate  5/21/2017 9:55     24982611       49   \n",
       "4   5  Sobe Yumberry Pomegranate|LMN  5/21/2017 9:55     24982524     4228   \n",
       "\n",
       "   INVEN_TX_CMPNT_QTY Time 15 Second Level Time Minute Level  \n",
       "0             10.9302      5/21/17 9:52:45   5/21/17 9:53:00  \n",
       "1             10.2326      5/21/17 9:54:15   5/21/17 9:54:00  \n",
       "2              8.6047      5/21/17 9:54:15   5/21/17 9:54:00  \n",
       "3              5.5012      5/21/17 9:55:30   5/21/17 9:55:00  \n",
       "4              3.3307      5/21/17 9:55:30   5/21/17 9:55:00  "
      ]
     },
     "execution_count": 12,
     "metadata": {},
     "output_type": "execute_result"
    }
   ],
   "source": [
    "spire.head()"
   ]
  },
  {
   "cell_type": "code",
   "execution_count": 14,
   "metadata": {},
   "outputs": [
    {
     "name": "stdout",
     "output_type": "stream",
     "text": [
      "Index(['ID', 'Unnamed: 1', 'loc_id', 'place_id', 'u_id', 'age', 'age_c',\n",
      "       'happy', 'p_count', 'face_size', 'x', 'y', 'f_count', 'capture_time',\n",
      "       'local_time', 'Capture Time 15 Second Level',\n",
      "       'Capture time minute level', 'time_zone', 'gender', 'anger', 'surprise',\n",
      "       'sad'],\n",
      "      dtype='object')\n",
      "Index(['ID', 'RCPE_NM', 'EQPMT_TX_DTM', 'EQPMT_TX_ID', 'RCPE_ID',\n",
      "       'INVEN_TX_CMPNT_QTY', 'Time 15 Second Level', 'Time Minute Level'],\n",
      "      dtype='object')\n",
      "(27139, 22)\n",
      "(2046, 8)\n"
     ]
    }
   ],
   "source": [
    "print(eyeq.columns)\n",
    "print(spire.columns)\n",
    "print(eyeq.shape)\n",
    "print(spire.shape)"
   ]
  },
  {
   "cell_type": "markdown",
   "metadata": {},
   "source": [
    "- First of first, see what type the variables have. u_id is an object. It should be taken care. "
   ]
  },
  {
   "cell_type": "code",
   "execution_count": 24,
   "metadata": {},
   "outputs": [
    {
     "data": {
      "text/plain": [
       "ID                                int64\n",
       "Unnamed: 1                        int64\n",
       "loc_id                            int64\n",
       "place_id                          int64\n",
       "u_id                             object\n",
       "age                               int64\n",
       "age_c                             int64\n",
       "happy                           float64\n",
       "p_count                           int64\n",
       "face_size                       float64\n",
       "x                                 int64\n",
       "y                                 int64\n",
       "f_count                           int64\n",
       "capture_time                     object\n",
       "local_time                       object\n",
       "Capture Time 15 Second Level     object\n",
       "Capture time minute level        object\n",
       "time_zone                         int64\n",
       "gender                          float64\n",
       "anger                           float64\n",
       "surprise                        float64\n",
       "sad                             float64\n",
       "dtype: object"
      ]
     },
     "execution_count": 24,
     "metadata": {},
     "output_type": "execute_result"
    }
   ],
   "source": [
    "eyeq.dtypes"
   ]
  },
  {
   "cell_type": "code",
   "execution_count": 51,
   "metadata": {},
   "outputs": [
    {
     "data": {
      "text/plain": [
       "Index(['ID', 'Unnamed: 1', 'loc_id', 'place_id', 'u_id', 'age', 'age_c',\n",
       "       'happy', 'p_count', 'face_size', 'x', 'y', 'f_count', 'capture_time',\n",
       "       'local_time', 'Capture Time 15 Second Level',\n",
       "       'Capture time minute level', 'time_zone', 'gender', 'anger', 'surprise',\n",
       "       'sad', 'u_id_pasted'],\n",
       "      dtype='object')"
      ]
     },
     "execution_count": 51,
     "metadata": {},
     "output_type": "execute_result"
    }
   ],
   "source": [
    "eyeq.columns"
   ]
  },
  {
   "cell_type": "code",
   "execution_count": 5,
   "metadata": {
    "collapsed": true
   },
   "outputs": [],
   "source": [
    "#eyeq['u_id'].value_counts()\n",
    "b = list(map(lambda x: x.split('-'), eyeq['u_id']))\n",
    "eyeq['u_id_pasted'] = list(map(lambda x: ''.join(x), b))\n",
    "eyeq['u_id_pasted'] = eyeq['u_id_pasted'].astype('float') "
   ]
  },
  {
   "cell_type": "code",
   "execution_count": 222,
   "metadata": {
    "collapsed": true
   },
   "outputs": [],
   "source": [
    "#eyeq['u_id'].value_counts()"
   ]
  },
  {
   "cell_type": "code",
   "execution_count": 56,
   "metadata": {},
   "outputs": [
    {
     "data": {
      "text/plain": [
       "533"
      ]
     },
     "execution_count": 56,
     "metadata": {},
     "output_type": "execute_result"
    }
   ],
   "source": [
    "len(eyeq.loc[eyeq.u_id_pasted == 0, :])"
   ]
  },
  {
   "cell_type": "markdown",
   "metadata": {},
   "source": [
    "- There are 533 observations having zero u_id. That means the machine were not able to recognize those customers. However, we need to examine if there are some customers, whose other attributes/behviours match with these zero u_id customers' values.\n",
    "\n"
   ]
  },
  {
   "cell_type": "code",
   "execution_count": 16,
   "metadata": {},
   "outputs": [
    {
     "data": {
      "text/plain": [
       "surprise                        0.974391\n",
       "sad                             0.928442\n",
       "anger                           0.527875\n",
       "gender                          0.347397\n",
       "happy                           0.155496\n",
       "time_zone                       0.000000\n",
       "Capture time minute level       0.000000\n",
       "Capture Time 15 Second Level    0.000000\n",
       "local_time                      0.000000\n",
       "capture_time                    0.000000\n",
       "f_count                         0.000000\n",
       "ID                              0.000000\n",
       "face_size                       0.000000\n",
       "p_count                         0.000000\n",
       "age_c                           0.000000\n",
       "age                             0.000000\n",
       "u_id                            0.000000\n",
       "place_id                        0.000000\n",
       "loc_id                          0.000000\n",
       "Unnamed: 1                      0.000000\n",
       "y                               0.000000\n",
       "x                               0.000000\n",
       "dtype: float64"
      ]
     },
     "execution_count": 16,
     "metadata": {},
     "output_type": "execute_result"
    }
   ],
   "source": [
    "# missing percentage\n",
    "1 - eyeq.count().sort_values()/eyeq.shape[0]"
   ]
  },
  {
   "cell_type": "code",
   "execution_count": 26,
   "metadata": {},
   "outputs": [
    {
     "name": "stdout",
     "output_type": "stream",
     "text": [
      "1\n",
      "1\n",
      "2932\n",
      "11\n",
      "[ 1  2  3  0  5  6  9  7  4 10 12]\n",
      "7\n",
      "[1 2 4 3 5 6 7]\n"
     ]
    }
   ],
   "source": [
    "print(len(eyeq['loc_id'].unique()))\n",
    "print(len(eyeq['place_id'].unique()))\n",
    "print(len(eyeq['u_id'].unique()))\n",
    "print(len(eyeq['p_count'].unique())) #person count records number of faces detected at the same time for each fountain use. \n",
    "print(eyeq['p_count'].unique())\n",
    "print(len(eyeq['f_count'].unique()))\n",
    "print(eyeq['f_count'].unique()) #f_count is not defined in the excel file. It might be the number of same u_ids recorded. I will check this. "
   ]
  },
  {
   "cell_type": "code",
   "execution_count": 20,
   "metadata": {},
   "outputs": [
    {
     "data": {
      "text/html": [
       "<div>\n",
       "<style>\n",
       "    .dataframe thead tr:only-child th {\n",
       "        text-align: right;\n",
       "    }\n",
       "\n",
       "    .dataframe thead th {\n",
       "        text-align: left;\n",
       "    }\n",
       "\n",
       "    .dataframe tbody tr th {\n",
       "        vertical-align: top;\n",
       "    }\n",
       "</style>\n",
       "<table border=\"1\" class=\"dataframe\">\n",
       "  <thead>\n",
       "    <tr style=\"text-align: right;\">\n",
       "      <th></th>\n",
       "      <th>ID</th>\n",
       "      <th>Unnamed: 1</th>\n",
       "      <th>loc_id</th>\n",
       "      <th>place_id</th>\n",
       "      <th>age</th>\n",
       "      <th>age_c</th>\n",
       "      <th>happy</th>\n",
       "      <th>p_count</th>\n",
       "      <th>face_size</th>\n",
       "      <th>x</th>\n",
       "      <th>y</th>\n",
       "      <th>f_count</th>\n",
       "      <th>time_zone</th>\n",
       "      <th>gender</th>\n",
       "      <th>anger</th>\n",
       "      <th>surprise</th>\n",
       "      <th>sad</th>\n",
       "    </tr>\n",
       "  </thead>\n",
       "  <tbody>\n",
       "    <tr>\n",
       "      <th>count</th>\n",
       "      <td>27139.000000</td>\n",
       "      <td>27139.000000</td>\n",
       "      <td>27139.0</td>\n",
       "      <td>27139.0</td>\n",
       "      <td>27139.000000</td>\n",
       "      <td>27139.000000</td>\n",
       "      <td>22919.000000</td>\n",
       "      <td>27139.000000</td>\n",
       "      <td>27139.000000</td>\n",
       "      <td>27139.000000</td>\n",
       "      <td>27139.000000</td>\n",
       "      <td>27139.000000</td>\n",
       "      <td>27139.0</td>\n",
       "      <td>17711.000000</td>\n",
       "      <td>12813.000000</td>\n",
       "      <td>695.000000</td>\n",
       "      <td>1942.000000</td>\n",
       "    </tr>\n",
       "    <tr>\n",
       "      <th>mean</th>\n",
       "      <td>13570.000000</td>\n",
       "      <td>13570.000000</td>\n",
       "      <td>28.0</td>\n",
       "      <td>36.0</td>\n",
       "      <td>39.844062</td>\n",
       "      <td>11.232949</td>\n",
       "      <td>43.052489</td>\n",
       "      <td>1.363094</td>\n",
       "      <td>0.610828</td>\n",
       "      <td>53.671543</td>\n",
       "      <td>28.655625</td>\n",
       "      <td>2.342717</td>\n",
       "      <td>-5.0</td>\n",
       "      <td>0.365027</td>\n",
       "      <td>43.170452</td>\n",
       "      <td>18.739568</td>\n",
       "      <td>26.789392</td>\n",
       "    </tr>\n",
       "    <tr>\n",
       "      <th>std</th>\n",
       "      <td>7834.498814</td>\n",
       "      <td>7834.498814</td>\n",
       "      <td>0.0</td>\n",
       "      <td>0.0</td>\n",
       "      <td>12.962718</td>\n",
       "      <td>2.827185</td>\n",
       "      <td>25.962280</td>\n",
       "      <td>0.874548</td>\n",
       "      <td>0.377203</td>\n",
       "      <td>17.010011</td>\n",
       "      <td>20.786474</td>\n",
       "      <td>1.385700</td>\n",
       "      <td>0.0</td>\n",
       "      <td>0.931023</td>\n",
       "      <td>29.589173</td>\n",
       "      <td>17.303523</td>\n",
       "      <td>22.555180</td>\n",
       "    </tr>\n",
       "    <tr>\n",
       "      <th>min</th>\n",
       "      <td>1.000000</td>\n",
       "      <td>1.000000</td>\n",
       "      <td>28.0</td>\n",
       "      <td>36.0</td>\n",
       "      <td>3.000000</td>\n",
       "      <td>0.000000</td>\n",
       "      <td>0.000000</td>\n",
       "      <td>0.000000</td>\n",
       "      <td>0.242407</td>\n",
       "      <td>3.000000</td>\n",
       "      <td>5.000000</td>\n",
       "      <td>1.000000</td>\n",
       "      <td>-5.0</td>\n",
       "      <td>-1.000000</td>\n",
       "      <td>0.000000</td>\n",
       "      <td>0.000000</td>\n",
       "      <td>0.000000</td>\n",
       "    </tr>\n",
       "    <tr>\n",
       "      <th>25%</th>\n",
       "      <td>6785.500000</td>\n",
       "      <td>6785.500000</td>\n",
       "      <td>28.0</td>\n",
       "      <td>36.0</td>\n",
       "      <td>30.000000</td>\n",
       "      <td>9.000000</td>\n",
       "      <td>22.000000</td>\n",
       "      <td>1.000000</td>\n",
       "      <td>0.441786</td>\n",
       "      <td>42.000000</td>\n",
       "      <td>13.000000</td>\n",
       "      <td>1.000000</td>\n",
       "      <td>-5.0</td>\n",
       "      <td>-1.000000</td>\n",
       "      <td>18.000000</td>\n",
       "      <td>6.000000</td>\n",
       "      <td>10.000000</td>\n",
       "    </tr>\n",
       "    <tr>\n",
       "      <th>50%</th>\n",
       "      <td>13570.000000</td>\n",
       "      <td>13570.000000</td>\n",
       "      <td>28.0</td>\n",
       "      <td>36.0</td>\n",
       "      <td>39.000000</td>\n",
       "      <td>11.000000</td>\n",
       "      <td>40.000000</td>\n",
       "      <td>1.000000</td>\n",
       "      <td>0.518486</td>\n",
       "      <td>54.000000</td>\n",
       "      <td>22.000000</td>\n",
       "      <td>2.000000</td>\n",
       "      <td>-5.0</td>\n",
       "      <td>1.000000</td>\n",
       "      <td>38.000000</td>\n",
       "      <td>14.000000</td>\n",
       "      <td>21.000000</td>\n",
       "    </tr>\n",
       "    <tr>\n",
       "      <th>75%</th>\n",
       "      <td>20354.500000</td>\n",
       "      <td>20354.500000</td>\n",
       "      <td>28.0</td>\n",
       "      <td>36.0</td>\n",
       "      <td>49.000000</td>\n",
       "      <td>13.000000</td>\n",
       "      <td>62.000000</td>\n",
       "      <td>1.000000</td>\n",
       "      <td>0.669990</td>\n",
       "      <td>66.000000</td>\n",
       "      <td>37.000000</td>\n",
       "      <td>3.000000</td>\n",
       "      <td>-5.0</td>\n",
       "      <td>1.000000</td>\n",
       "      <td>64.000000</td>\n",
       "      <td>25.000000</td>\n",
       "      <td>38.000000</td>\n",
       "    </tr>\n",
       "    <tr>\n",
       "      <th>max</th>\n",
       "      <td>27139.000000</td>\n",
       "      <td>27139.000000</td>\n",
       "      <td>28.0</td>\n",
       "      <td>36.0</td>\n",
       "      <td>85.000000</td>\n",
       "      <td>23.000000</td>\n",
       "      <td>100.000000</td>\n",
       "      <td>12.000000</td>\n",
       "      <td>21.248500</td>\n",
       "      <td>97.000000</td>\n",
       "      <td>94.000000</td>\n",
       "      <td>7.000000</td>\n",
       "      <td>-5.0</td>\n",
       "      <td>1.000000</td>\n",
       "      <td>100.000000</td>\n",
       "      <td>100.000000</td>\n",
       "      <td>100.000000</td>\n",
       "    </tr>\n",
       "  </tbody>\n",
       "</table>\n",
       "</div>"
      ],
      "text/plain": [
       "                 ID    Unnamed: 1   loc_id  place_id           age  \\\n",
       "count  27139.000000  27139.000000  27139.0   27139.0  27139.000000   \n",
       "mean   13570.000000  13570.000000     28.0      36.0     39.844062   \n",
       "std     7834.498814   7834.498814      0.0       0.0     12.962718   \n",
       "min        1.000000      1.000000     28.0      36.0      3.000000   \n",
       "25%     6785.500000   6785.500000     28.0      36.0     30.000000   \n",
       "50%    13570.000000  13570.000000     28.0      36.0     39.000000   \n",
       "75%    20354.500000  20354.500000     28.0      36.0     49.000000   \n",
       "max    27139.000000  27139.000000     28.0      36.0     85.000000   \n",
       "\n",
       "              age_c         happy       p_count     face_size             x  \\\n",
       "count  27139.000000  22919.000000  27139.000000  27139.000000  27139.000000   \n",
       "mean      11.232949     43.052489      1.363094      0.610828     53.671543   \n",
       "std        2.827185     25.962280      0.874548      0.377203     17.010011   \n",
       "min        0.000000      0.000000      0.000000      0.242407      3.000000   \n",
       "25%        9.000000     22.000000      1.000000      0.441786     42.000000   \n",
       "50%       11.000000     40.000000      1.000000      0.518486     54.000000   \n",
       "75%       13.000000     62.000000      1.000000      0.669990     66.000000   \n",
       "max       23.000000    100.000000     12.000000     21.248500     97.000000   \n",
       "\n",
       "                  y       f_count  time_zone        gender         anger  \\\n",
       "count  27139.000000  27139.000000    27139.0  17711.000000  12813.000000   \n",
       "mean      28.655625      2.342717       -5.0      0.365027     43.170452   \n",
       "std       20.786474      1.385700        0.0      0.931023     29.589173   \n",
       "min        5.000000      1.000000       -5.0     -1.000000      0.000000   \n",
       "25%       13.000000      1.000000       -5.0     -1.000000     18.000000   \n",
       "50%       22.000000      2.000000       -5.0      1.000000     38.000000   \n",
       "75%       37.000000      3.000000       -5.0      1.000000     64.000000   \n",
       "max       94.000000      7.000000       -5.0      1.000000    100.000000   \n",
       "\n",
       "         surprise          sad  \n",
       "count  695.000000  1942.000000  \n",
       "mean    18.739568    26.789392  \n",
       "std     17.303523    22.555180  \n",
       "min      0.000000     0.000000  \n",
       "25%      6.000000    10.000000  \n",
       "50%     14.000000    21.000000  \n",
       "75%     25.000000    38.000000  \n",
       "max    100.000000   100.000000  "
      ]
     },
     "execution_count": 20,
     "metadata": {},
     "output_type": "execute_result"
    }
   ],
   "source": [
    "eyeq.describe()"
   ]
  },
  {
   "cell_type": "code",
   "execution_count": 19,
   "metadata": {
    "collapsed": true
   },
   "outputs": [],
   "source": [
    "#plt.hist(eyeq.loc[eyeq.face_size<5, :])\n",
    "#plt.title('EyeQ data-face_size distribution')\n",
    "#plt.xlabel('Value')\n",
    "#plt.ylabel('Frequency')"
   ]
  },
  {
   "cell_type": "code",
   "execution_count": 21,
   "metadata": {},
   "outputs": [
    {
     "data": {
      "text/html": [
       "<div>\n",
       "<style>\n",
       "    .dataframe thead tr:only-child th {\n",
       "        text-align: right;\n",
       "    }\n",
       "\n",
       "    .dataframe thead th {\n",
       "        text-align: left;\n",
       "    }\n",
       "\n",
       "    .dataframe tbody tr th {\n",
       "        vertical-align: top;\n",
       "    }\n",
       "</style>\n",
       "<table border=\"1\" class=\"dataframe\">\n",
       "  <thead>\n",
       "    <tr style=\"text-align: right;\">\n",
       "      <th></th>\n",
       "      <th>ID</th>\n",
       "      <th>Unnamed: 1</th>\n",
       "      <th>loc_id</th>\n",
       "      <th>place_id</th>\n",
       "      <th>u_id</th>\n",
       "      <th>age</th>\n",
       "      <th>age_c</th>\n",
       "      <th>happy</th>\n",
       "      <th>p_count</th>\n",
       "      <th>face_size</th>\n",
       "      <th>...</th>\n",
       "      <th>f_count</th>\n",
       "      <th>capture_time</th>\n",
       "      <th>local_time</th>\n",
       "      <th>Capture Time 15 Second Level</th>\n",
       "      <th>Capture time minute level</th>\n",
       "      <th>time_zone</th>\n",
       "      <th>gender</th>\n",
       "      <th>anger</th>\n",
       "      <th>surprise</th>\n",
       "      <th>sad</th>\n",
       "    </tr>\n",
       "  </thead>\n",
       "  <tbody>\n",
       "    <tr>\n",
       "      <th>9111</th>\n",
       "      <td>9112</td>\n",
       "      <td>18028</td>\n",
       "      <td>28</td>\n",
       "      <td>36</td>\n",
       "      <td>0</td>\n",
       "      <td>29</td>\n",
       "      <td>15</td>\n",
       "      <td>45.0</td>\n",
       "      <td>0</td>\n",
       "      <td>21.248500</td>\n",
       "      <td>...</td>\n",
       "      <td>2</td>\n",
       "      <td>5/20/2017 15:38</td>\n",
       "      <td>5/20/2017 10:38:51</td>\n",
       "      <td>5/20/2017 15:38:45</td>\n",
       "      <td>5/20/2017 15:39:00</td>\n",
       "      <td>-5</td>\n",
       "      <td>NaN</td>\n",
       "      <td>NaN</td>\n",
       "      <td>NaN</td>\n",
       "      <td>11.0</td>\n",
       "    </tr>\n",
       "    <tr>\n",
       "      <th>11368</th>\n",
       "      <td>11369</td>\n",
       "      <td>15770</td>\n",
       "      <td>28</td>\n",
       "      <td>36</td>\n",
       "      <td>0</td>\n",
       "      <td>26</td>\n",
       "      <td>8</td>\n",
       "      <td>NaN</td>\n",
       "      <td>0</td>\n",
       "      <td>21.248500</td>\n",
       "      <td>...</td>\n",
       "      <td>1</td>\n",
       "      <td>5/21/2017 10:31</td>\n",
       "      <td>5/21/2017 5:31:28</td>\n",
       "      <td>5/21/2017 10:31:30</td>\n",
       "      <td>5/21/2017 10:31:00</td>\n",
       "      <td>-5</td>\n",
       "      <td>NaN</td>\n",
       "      <td>25.0</td>\n",
       "      <td>NaN</td>\n",
       "      <td>100.0</td>\n",
       "    </tr>\n",
       "    <tr>\n",
       "      <th>11369</th>\n",
       "      <td>11370</td>\n",
       "      <td>15771</td>\n",
       "      <td>28</td>\n",
       "      <td>36</td>\n",
       "      <td>0</td>\n",
       "      <td>26</td>\n",
       "      <td>8</td>\n",
       "      <td>10.0</td>\n",
       "      <td>0</td>\n",
       "      <td>21.248500</td>\n",
       "      <td>...</td>\n",
       "      <td>3</td>\n",
       "      <td>5/21/2017 10:31</td>\n",
       "      <td>5/21/2017 5:31:28</td>\n",
       "      <td>5/21/2017 10:31:30</td>\n",
       "      <td>5/21/2017 10:31:00</td>\n",
       "      <td>-5</td>\n",
       "      <td>1.0</td>\n",
       "      <td>NaN</td>\n",
       "      <td>23.0</td>\n",
       "      <td>56.0</td>\n",
       "    </tr>\n",
       "    <tr>\n",
       "      <th>11370</th>\n",
       "      <td>11371</td>\n",
       "      <td>15769</td>\n",
       "      <td>28</td>\n",
       "      <td>36</td>\n",
       "      <td>0</td>\n",
       "      <td>27</td>\n",
       "      <td>10</td>\n",
       "      <td>0.0</td>\n",
       "      <td>0</td>\n",
       "      <td>21.248500</td>\n",
       "      <td>...</td>\n",
       "      <td>3</td>\n",
       "      <td>5/21/2017 10:31</td>\n",
       "      <td>5/21/2017 5:31:29</td>\n",
       "      <td>5/21/2017 10:31:30</td>\n",
       "      <td>5/21/2017 10:31:00</td>\n",
       "      <td>-5</td>\n",
       "      <td>1.0</td>\n",
       "      <td>NaN</td>\n",
       "      <td>50.0</td>\n",
       "      <td>19.0</td>\n",
       "    </tr>\n",
       "    <tr>\n",
       "      <th>17754</th>\n",
       "      <td>17755</td>\n",
       "      <td>9385</td>\n",
       "      <td>28</td>\n",
       "      <td>36</td>\n",
       "      <td>0</td>\n",
       "      <td>47</td>\n",
       "      <td>14</td>\n",
       "      <td>45.0</td>\n",
       "      <td>0</td>\n",
       "      <td>5.849920</td>\n",
       "      <td>...</td>\n",
       "      <td>1</td>\n",
       "      <td>5/21/2017 14:51</td>\n",
       "      <td>5/21/2017 9:51:03</td>\n",
       "      <td>5/21/2017 14:51:00</td>\n",
       "      <td>5/21/2017 14:51:00</td>\n",
       "      <td>-5</td>\n",
       "      <td>NaN</td>\n",
       "      <td>4.0</td>\n",
       "      <td>NaN</td>\n",
       "      <td>NaN</td>\n",
       "    </tr>\n",
       "    <tr>\n",
       "      <th>19486</th>\n",
       "      <td>19487</td>\n",
       "      <td>7653</td>\n",
       "      <td>28</td>\n",
       "      <td>36</td>\n",
       "      <td>11-1495456262</td>\n",
       "      <td>29</td>\n",
       "      <td>7</td>\n",
       "      <td>41.0</td>\n",
       "      <td>1</td>\n",
       "      <td>5.643380</td>\n",
       "      <td>...</td>\n",
       "      <td>1</td>\n",
       "      <td>5/22/2017 7:31</td>\n",
       "      <td>5/22/2017 2:31:02</td>\n",
       "      <td>5/22/2017 7:31:00</td>\n",
       "      <td>5/22/2017 7:31:00</td>\n",
       "      <td>-5</td>\n",
       "      <td>1.0</td>\n",
       "      <td>100.0</td>\n",
       "      <td>NaN</td>\n",
       "      <td>NaN</td>\n",
       "    </tr>\n",
       "    <tr>\n",
       "      <th>19487</th>\n",
       "      <td>19488</td>\n",
       "      <td>7652</td>\n",
       "      <td>28</td>\n",
       "      <td>36</td>\n",
       "      <td>0</td>\n",
       "      <td>39</td>\n",
       "      <td>12</td>\n",
       "      <td>17.0</td>\n",
       "      <td>0</td>\n",
       "      <td>8.604025</td>\n",
       "      <td>...</td>\n",
       "      <td>2</td>\n",
       "      <td>5/22/2017 7:32</td>\n",
       "      <td>5/22/2017 2:32:28</td>\n",
       "      <td>5/22/2017 7:32:30</td>\n",
       "      <td>5/22/2017 7:32:00</td>\n",
       "      <td>-5</td>\n",
       "      <td>NaN</td>\n",
       "      <td>84.0</td>\n",
       "      <td>NaN</td>\n",
       "      <td>NaN</td>\n",
       "    </tr>\n",
       "    <tr>\n",
       "      <th>19505</th>\n",
       "      <td>19506</td>\n",
       "      <td>7633</td>\n",
       "      <td>28</td>\n",
       "      <td>36</td>\n",
       "      <td>18-1495456408</td>\n",
       "      <td>51</td>\n",
       "      <td>13</td>\n",
       "      <td>35.0</td>\n",
       "      <td>1</td>\n",
       "      <td>5.326320</td>\n",
       "      <td>...</td>\n",
       "      <td>1</td>\n",
       "      <td>5/22/2017 7:33</td>\n",
       "      <td>5/22/2017 2:33:28</td>\n",
       "      <td>5/22/2017 7:33:30</td>\n",
       "      <td>5/22/2017 7:33:00</td>\n",
       "      <td>-5</td>\n",
       "      <td>NaN</td>\n",
       "      <td>NaN</td>\n",
       "      <td>NaN</td>\n",
       "      <td>NaN</td>\n",
       "    </tr>\n",
       "  </tbody>\n",
       "</table>\n",
       "<p>8 rows × 22 columns</p>\n",
       "</div>"
      ],
      "text/plain": [
       "          ID  Unnamed: 1  loc_id  place_id           u_id  age  age_c  happy  \\\n",
       "9111    9112       18028      28        36              0   29     15   45.0   \n",
       "11368  11369       15770      28        36              0   26      8    NaN   \n",
       "11369  11370       15771      28        36              0   26      8   10.0   \n",
       "11370  11371       15769      28        36              0   27     10    0.0   \n",
       "17754  17755        9385      28        36              0   47     14   45.0   \n",
       "19486  19487        7653      28        36  11-1495456262   29      7   41.0   \n",
       "19487  19488        7652      28        36              0   39     12   17.0   \n",
       "19505  19506        7633      28        36  18-1495456408   51     13   35.0   \n",
       "\n",
       "       p_count  face_size  ...    f_count     capture_time  \\\n",
       "9111         0  21.248500  ...          2  5/20/2017 15:38   \n",
       "11368        0  21.248500  ...          1  5/21/2017 10:31   \n",
       "11369        0  21.248500  ...          3  5/21/2017 10:31   \n",
       "11370        0  21.248500  ...          3  5/21/2017 10:31   \n",
       "17754        0   5.849920  ...          1  5/21/2017 14:51   \n",
       "19486        1   5.643380  ...          1   5/22/2017 7:31   \n",
       "19487        0   8.604025  ...          2   5/22/2017 7:32   \n",
       "19505        1   5.326320  ...          1   5/22/2017 7:33   \n",
       "\n",
       "               local_time Capture Time 15 Second Level  \\\n",
       "9111   5/20/2017 10:38:51           5/20/2017 15:38:45   \n",
       "11368   5/21/2017 5:31:28           5/21/2017 10:31:30   \n",
       "11369   5/21/2017 5:31:28           5/21/2017 10:31:30   \n",
       "11370   5/21/2017 5:31:29           5/21/2017 10:31:30   \n",
       "17754   5/21/2017 9:51:03           5/21/2017 14:51:00   \n",
       "19486   5/22/2017 2:31:02            5/22/2017 7:31:00   \n",
       "19487   5/22/2017 2:32:28            5/22/2017 7:32:30   \n",
       "19505   5/22/2017 2:33:28            5/22/2017 7:33:30   \n",
       "\n",
       "      Capture time minute level time_zone gender  anger  surprise    sad  \n",
       "9111         5/20/2017 15:39:00        -5    NaN    NaN       NaN   11.0  \n",
       "11368        5/21/2017 10:31:00        -5    NaN   25.0       NaN  100.0  \n",
       "11369        5/21/2017 10:31:00        -5    1.0    NaN      23.0   56.0  \n",
       "11370        5/21/2017 10:31:00        -5    1.0    NaN      50.0   19.0  \n",
       "17754        5/21/2017 14:51:00        -5    NaN    4.0       NaN    NaN  \n",
       "19486         5/22/2017 7:31:00        -5    1.0  100.0       NaN    NaN  \n",
       "19487         5/22/2017 7:32:00        -5    NaN   84.0       NaN    NaN  \n",
       "19505         5/22/2017 7:33:00        -5    NaN    NaN       NaN    NaN  \n",
       "\n",
       "[8 rows x 22 columns]"
      ]
     },
     "execution_count": 21,
     "metadata": {},
     "output_type": "execute_result"
    }
   ],
   "source": [
    "eyeq.loc[eyeq.face_size>5, :]"
   ]
  },
  {
   "cell_type": "markdown",
   "metadata": {},
   "source": [
    "- face_size have 4-5 potential outliers having values around 21 and one observation has a value at 8.60. \n",
    "    - Do additional numerical eda here: How do the face size differ across age and feeling records? Then see, how do that differ across flavor choices? \n",
    "\n",
    "\n",
    "- I will do some group by summary analysis to see the change in variables across different u_ids. Note that there are 2932 distinct u_ids. We will ask this question: Was that specific u_id assigned to the same individual or is it some error resulted from the machine reading?\n",
    "    - Do groupings based on u_id and face_size and see the variations in age and gender. "
   ]
  },
  {
   "cell_type": "code",
   "execution_count": 70,
   "metadata": {
    "collapsed": true
   },
   "outputs": [],
   "source": [
    "colFun = {'age':['count', 'min', 'max','mean','std'],\n",
    "          'age_c':['count', 'min', 'max','mean','std'],\n",
    "         'face_size':['count', 'min', 'max','mean','std'],\n",
    "         'x':['count', 'min', 'max','mean','std'],\n",
    "         'y':['count', 'min', 'max','mean','std']}"
   ]
  },
  {
   "cell_type": "code",
   "execution_count": 155,
   "metadata": {
    "collapsed": true
   },
   "outputs": [],
   "source": [
    "#eyeq.groupby('u_id_pasted')['age'].count()\n",
    "#eyeq.groupby('u_id_pasted').agg(colFun)"
   ]
  },
  {
   "cell_type": "code",
   "execution_count": 168,
   "metadata": {
    "collapsed": true
   },
   "outputs": [],
   "source": [
    "#eyeq.groupby('u_id_pasted').agg('count')['age'] "
   ]
  },
  {
   "cell_type": "code",
   "execution_count": 27,
   "metadata": {},
   "outputs": [],
   "source": [
    "eyeq.groupby('u_id_pasted').size()\n",
    "eyeq.groupby('u_id_pasted').groups"
   ]
  },
  {
   "cell_type": "code",
   "execution_count": 169,
   "metadata": {},
   "outputs": [
    {
     "data": {
      "text/plain": [
       "84"
      ]
     },
     "execution_count": 169,
     "metadata": {},
     "output_type": "execute_result"
    }
   ],
   "source": [
    "len(eyeq.groupby('u_id_pasted').groups[191495301490.0])"
   ]
  },
  {
   "cell_type": "markdown",
   "metadata": {},
   "source": [
    "- u_ids needs to be examined carefully along with other variables. For example, we may ask who those customers showing up at least, say, 20 times. Did these numbers introduce noise or truly represent the same customer? \n",
    "    - Let's see the time plot for those u_ids having more than 20 times shown up. "
   ]
  },
  {
   "cell_type": "code",
   "execution_count": 6,
   "metadata": {
    "collapsed": true
   },
   "outputs": [],
   "source": [
    "from datetime import datetime"
   ]
  },
  {
   "cell_type": "code",
   "execution_count": 12,
   "metadata": {},
   "outputs": [],
   "source": [
    "eyeq['local_time'] = list(map(lambda x: datetime.strptime(x, \"%m/%d/%Y %H:%M:%S\"), eyeq['local_time']))"
   ]
  },
  {
   "cell_type": "markdown",
   "metadata": {},
   "source": [
    "### Here are two scatterplots of age variable across time for specific u_id that was recorded 82 and 84 times, respectively. "
   ]
  },
  {
   "cell_type": "code",
   "execution_count": 225,
   "metadata": {},
   "outputs": [
    {
     "data": {
      "image/png": "[encoded data removed]",
      "text/plain": [
       "<matplotlib.figure.Figure at 0x13e92815710>"
      ]
     },
     "metadata": {},
     "output_type": "display_data"
    }
   ],
   "source": [
    "df = eyeq.loc[eyeq.u_id_pasted == 1495297720, :]\n",
    "plt.figure(figsize=(12, 8))\n",
    "plt.plot_date(df['local_time'], df['age'])\n",
    "plt.title(\"Distribution of age over the time for one specific u_id\")\n",
    "plt.ylabel(\"Age\")\n",
    "plt.xlabel(\"Time\")\n",
    "plt.gcf().autofmt_xdate()"
   ]
  },
  {
   "cell_type": "code",
   "execution_count": 215,
   "metadata": {},
   "outputs": [
    {
     "data": {
      "image/png": "[encoded data removed]",
      "text/plain": [
       "<matplotlib.figure.Figure at 0x13e9389f4e0>"
      ]
     },
     "metadata": {},
     "output_type": "display_data"
    }
   ],
   "source": [
    "df = eyeq.loc[eyeq.u_id_pasted == 1495297720, :]\n",
    "plt.figure(figsize=(12, 8))\n",
    "#plt.plot_date(df['local_time'], df['age'])\n",
    "plt.errorbar(df['ID'], df['age'], yerr=df['age_c'], fmt='o')\n",
    "plt.title(\"Distribution of age over the time for one specific u_id with confidence intervals from age_c\")\n",
    "plt.ylabel(\"Age\")\n",
    "plt.xlabel(\"Time\")\n",
    "plt.gcf().autofmt_xdate()"
   ]
  },
  {
   "cell_type": "code",
   "execution_count": 221,
   "metadata": {},
   "outputs": [
    {
     "data": {
      "text/plain": [
       "<matplotlib.text.Text at 0x13e9496a2e8>"
      ]
     },
     "execution_count": 221,
     "metadata": {},
     "output_type": "execute_result"
    },
    {
     "data": {
      "image/png": "[encoded data removed]",
      "text/plain": [
       "<matplotlib.figure.Figure at 0x13e948565c0>"
      ]
     },
     "metadata": {},
     "output_type": "display_data"
    }
   ],
   "source": [
    "plt.figure(figsize=(12, 8))\n",
    "plt.scatter(df['age'], df['face_size'])\n",
    "plt.title(\"Scatterplot of age vs face_size for this u_id\")\n",
    "plt.ylabel(\"face_size\")\n",
    "plt.xlabel(\"age\")"
   ]
  },
  {
   "cell_type": "markdown",
   "metadata": {},
   "source": [
    "- One comment: face_size has maximum value of 21 and minimum value of 0.24. face_size variable is defined as \"proxy for closeness to camera\". That may indicate that if a consumer is closer to the camera (the fountain), then the face_size is captured larger.  \n",
    "\n",
    "- The relevant question is that for a given face_size, why the machine captured different ages. \n",
    "    - Think about this: find the very first appearance of this consumer. Find his/her face_size and age, gender. Then, try to understand more what values were given to this consumer for these variables in the subsequent fountain usage. "
   ]
  },
  {
   "cell_type": "code",
   "execution_count": 170,
   "metadata": {},
   "outputs": [
    {
     "data": {
      "image/png": "[encoded data removed]",
      "text/plain": [
       "<matplotlib.figure.Figure at 0x13e92472748>"
      ]
     },
     "metadata": {},
     "output_type": "display_data"
    }
   ],
   "source": [
    "df = eyeq.loc[eyeq.u_id_pasted == 191495301490, :]\n",
    "plt.figure(figsize=(12, 8))\n",
    "plt.plot_date(df['local_time'], df['age'])\n",
    "plt.title(\"Distribution of age over the time for one specific u_id\")\n",
    "plt.ylabel(\"Age\")\n",
    "plt.xlabel(\"Time\")\n",
    "plt.gcf().autofmt_xdate()"
   ]
  },
  {
   "cell_type": "markdown",
   "metadata": {},
   "source": [
    "- These two scatterplots show that the age has variance for the same u_id. This will arise a concern that which age will represent this customer most correctly.  "
   ]
  },
  {
   "cell_type": "code",
   "execution_count": 212,
   "metadata": {},
   "outputs": [
    {
     "data": {
      "image/png": "[encoded data removed]",
      "text/plain": [
       "<matplotlib.figure.Figure at 0x13e94bd1550>"
      ]
     },
     "metadata": {},
     "output_type": "display_data"
    }
   ],
   "source": [
    "df = eyeq.loc[eyeq.u_id_pasted == 191495301490, :]\n",
    "plt.figure(figsize=(12, 8))\n",
    "#plt.plot_date(df['local_time'], df['age'])\n",
    "plt.errorbar(df['ID'], df['age'], yerr=df['age_c'], fmt='o')\n",
    "plt.title(\"Distribution of age over the time for one specific u_id with confidence intervals from age_c\")\n",
    "plt.ylabel(\"Age with confidence intervals\")\n",
    "plt.xlabel(\"ID\")\n",
    "plt.gcf().autofmt_xdate()"
   ]
  },
  {
   "cell_type": "code",
   "execution_count": 25,
   "metadata": {},
   "outputs": [],
   "source": [
    "eyeq.groupby(['u_id_pasted', 'face_size']).agg(['count', 'min', 'max', 'mean', 'std'])['age']"
   ]
  },
  {
   "cell_type": "markdown",
   "metadata": {},
   "source": [
    "### Synchronizing the two data sources. "
   ]
  },
  {
   "cell_type": "code",
   "execution_count": 241,
   "metadata": {},
   "outputs": [
    {
     "name": "stdout",
     "output_type": "stream",
     "text": [
      "19024\n",
      "['2017-05-20T02:28:57.000000000' '2017-05-20T02:28:58.000000000'\n",
      " '2017-05-20T02:28:59.000000000' '2017-05-20T02:29:00.000000000'\n",
      " '2017-05-20T02:29:01.000000000' '2017-05-20T02:29:02.000000000'\n",
      " '2017-05-20T02:29:04.000000000' '2017-05-20T02:29:06.000000000'\n",
      " '2017-05-20T02:29:07.000000000' '2017-05-20T02:29:08.000000000']\n",
      "0   2017-05-20 02:28:57\n",
      "1   2017-05-20 02:28:57\n",
      "2   2017-05-20 02:28:57\n",
      "3   2017-05-20 02:28:58\n",
      "4   2017-05-20 02:28:59\n",
      "5   2017-05-20 02:28:59\n",
      "6   2017-05-20 02:29:00\n",
      "7   2017-05-20 02:29:01\n",
      "8   2017-05-20 02:29:02\n",
      "9   2017-05-20 02:29:04\n",
      "Name: local_time, dtype: datetime64[ns]\n"
     ]
    }
   ],
   "source": [
    "print(len(eyeq['local_time'].unique()))\n",
    "print(eyeq['local_time'].unique()[0:10])\n",
    "print(eyeq['local_time'][0:10])"
   ]
  },
  {
   "cell_type": "code",
   "execution_count": 242,
   "metadata": {},
   "outputs": [
    {
     "name": "stdout",
     "output_type": "stream",
     "text": [
      "3190\n",
      "['5/20/2017 7:29:00' '5/20/2017 7:29:15' '5/20/2017 7:29:30'\n",
      " '5/20/2017 7:29:45' '5/20/2017 7:30:00' '5/20/2017 7:30:15'\n",
      " '5/20/2017 7:31:30' '5/20/2017 7:31:45' '5/20/2017 7:33:30'\n",
      " '5/20/2017 7:37:15']\n",
      "0    5/20/2017 7:29:00\n",
      "1    5/20/2017 7:29:00\n",
      "2    5/20/2017 7:29:00\n",
      "3    5/20/2017 7:29:00\n",
      "4    5/20/2017 7:29:00\n",
      "5    5/20/2017 7:29:00\n",
      "6    5/20/2017 7:29:00\n",
      "7    5/20/2017 7:29:00\n",
      "8    5/20/2017 7:29:00\n",
      "9    5/20/2017 7:29:00\n",
      "Name: Capture Time 15 Second Level, dtype: object\n"
     ]
    }
   ],
   "source": [
    "print(len(eyeq['Capture Time 15 Second Level'].unique()))\n",
    "print(eyeq['Capture Time 15 Second Level'].unique()[0:10])\n",
    "print(eyeq['Capture Time 15 Second Level'][0:10])"
   ]
  },
  {
   "cell_type": "code",
   "execution_count": 243,
   "metadata": {},
   "outputs": [
    {
     "data": {
      "image/png": "[encoded data removed]",
      "text/plain": [
       "<matplotlib.figure.Figure at 0x13e9498e160>"
      ]
     },
     "metadata": {},
     "output_type": "display_data"
    }
   ],
   "source": [
    "plt.figure(figsize=(12, 8))\n",
    "plt.plot_date(eyeq['local_time'], eyeq['age'])\n",
    "plt.gcf().autofmt_xdate()"
   ]
  },
  {
   "cell_type": "code",
   "execution_count": 244,
   "metadata": {},
   "outputs": [
    {
     "name": "stdout",
     "output_type": "stream",
     "text": [
      "1530\n"
     ]
    }
   ],
   "source": [
    "print(len(spire['Time 15 Second Level'].unique()))"
   ]
  },
  {
   "cell_type": "code",
   "execution_count": 245,
   "metadata": {},
   "outputs": [
    {
     "name": "stdout",
     "output_type": "stream",
     "text": [
      "['5/21/17 9:52:45' '5/21/17 9:54:15' '5/21/17 9:55:30' '5/21/17 9:55:45'\n",
      " '5/21/17 9:56:00' '5/21/17 9:56:15' '5/21/17 9:56:30' '5/21/17 9:56:45'\n",
      " '5/21/17 9:57:00' '5/21/17 9:57:30']\n"
     ]
    },
    {
     "data": {
      "image/png": "[encoded data removed]",
      "text/plain": [
       "<matplotlib.figure.Figure at 0x13e9393c208>"
      ]
     },
     "metadata": {},
     "output_type": "display_data"
    }
   ],
   "source": [
    "plt.figure(figsize=(12, 8))\n",
    "plt.plot_date(spire['EQPMT_TX_DTM'], spire['RCPE_ID'])\n",
    "plt.gcf().autofmt_xdate()\n",
    "print(spire['Time 15 Second Level'].unique()[0:10])"
   ]
  },
  {
   "cell_type": "code",
   "execution_count": 247,
   "metadata": {},
   "outputs": [
    {
     "name": "stdout",
     "output_type": "stream",
     "text": [
      "['5/21/2017 9:52' '5/21/2017 9:54' '5/21/2017 9:55' '5/21/2017 9:56'\n",
      " '5/21/2017 9:57' '5/21/2017 9:58' '5/21/2017 9:59' '5/21/2017 10:13'\n",
      " '5/21/2017 10:46' '5/21/2017 10:56']\n",
      "['5/21/17 9:52:45' '5/21/17 9:54:15' '5/21/17 9:55:30' '5/21/17 9:55:45'\n",
      " '5/21/17 9:56:00' '5/21/17 9:56:15' '5/21/17 9:56:30' '5/21/17 9:56:45'\n",
      " '5/21/17 9:57:00' '5/21/17 9:57:30']\n"
     ]
    }
   ],
   "source": [
    "print(spire['EQPMT_TX_DTM'].unique()[0:10])\n",
    "print(spire['Time 15 Second Level'].unique()[0:10])"
   ]
  },
  {
   "cell_type": "code",
   "execution_count": 13,
   "metadata": {
    "collapsed": true
   },
   "outputs": [],
   "source": [
    "spire['Time 15 Second Level'] = list(map(lambda x: datetime.strptime(x, \"%m/%d/%y %H:%M:%S\"), spire['Time 15 Second Level']))\n",
    "eyeq['Capture Time 15 Second Level'] = list(map(lambda x: datetime.strptime(x, \"%m/%d/%Y %H:%M:%S\"), eyeq['Capture Time 15 Second Level']))\n",
    "eyeq.rename(columns={'Capture Time 15 Second Level':'Capture_Time_15_Second_Level'}, inplace=True) "
   ]
  },
  {
   "cell_type": "code",
   "execution_count": 14,
   "metadata": {
    "collapsed": true
   },
   "outputs": [],
   "source": [
    "#Need to have both dataset have the common column name for the sync.\n",
    "spire.rename(columns={'Time 15 Second Level':'Capture_Time_15_Second_Level'}, inplace=True)    "
   ]
  },
  {
   "cell_type": "code",
   "execution_count": 253,
   "metadata": {
    "collapsed": true
   },
   "outputs": [],
   "source": [
    "#eyeq_sync_spire = eyeq.loc[spire['Capture Time 15 Second Level']]\n",
    "#This gives an error as the date column cannot be used for indexing??? "
   ]
  },
  {
   "cell_type": "code",
   "execution_count": 21,
   "metadata": {},
   "outputs": [],
   "source": [
    "#eyeq_df = eyeq\n",
    "#eyeq_df['Capture_Time_15_Second_Level'] = list(map(lambda x: datetime.strftime(x, \"%m/%d/%y %H:%M:%S\"), eyeq_df['Capture_Time_15_Second_Level']))"
   ]
  },
  {
   "cell_type": "code",
   "execution_count": 269,
   "metadata": {},
   "outputs": [
    {
     "name": "stdout",
     "output_type": "stream",
     "text": [
      "ID                                       int64\n",
      "Unnamed: 1                               int64\n",
      "loc_id                                   int64\n",
      "place_id                                 int64\n",
      "u_id                                    object\n",
      "age                                      int64\n",
      "age_c                                    int64\n",
      "happy                                  float64\n",
      "p_count                                  int64\n",
      "face_size                              float64\n",
      "x                                        int64\n",
      "y                                        int64\n",
      "f_count                                  int64\n",
      "capture_time                            object\n",
      "local_time                      datetime64[ns]\n",
      "Capture_Time_15_Second_Level    datetime64[ns]\n",
      "Capture time minute level               object\n",
      "time_zone                                int64\n",
      "gender                                 float64\n",
      "anger                                  float64\n",
      "surprise                               float64\n",
      "sad                                    float64\n",
      "u_id_pasted                            float64\n",
      "dtype: object\n",
      "ID                                       int64\n",
      "RCPE_NM                                 object\n",
      "EQPMT_TX_DTM                            object\n",
      "EQPMT_TX_ID                              int64\n",
      "RCPE_ID                                  int64\n",
      "INVEN_TX_CMPNT_QTY                     float64\n",
      "Capture_Time_15_Second_Level    datetime64[ns]\n",
      "Time Minute Level                       object\n",
      "dtype: object\n"
     ]
    }
   ],
   "source": [
    "print(eyeq.dtypes)\n",
    "print(spire.dtypes)"
   ]
  },
  {
   "cell_type": "code",
   "execution_count": 22,
   "metadata": {
    "collapsed": true
   },
   "outputs": [],
   "source": [
    "eyeq_sync_spire = pd.merge(eyeq, spire, how='inner', on='Capture_Time_15_Second_Level')"
   ]
  },
  {
   "cell_type": "code",
   "execution_count": 24,
   "metadata": {},
   "outputs": [
    {
     "name": "stdout",
     "output_type": "stream",
     "text": [
      "(5864, 30)\n"
     ]
    },
    {
     "data": {
      "text/html": [
       "<div>\n",
       "<style>\n",
       "    .dataframe thead tr:only-child th {\n",
       "        text-align: right;\n",
       "    }\n",
       "\n",
       "    .dataframe thead th {\n",
       "        text-align: left;\n",
       "    }\n",
       "\n",
       "    .dataframe tbody tr th {\n",
       "        vertical-align: top;\n",
       "    }\n",
       "</style>\n",
       "<table border=\"1\" class=\"dataframe\">\n",
       "  <thead>\n",
       "    <tr style=\"text-align: right;\">\n",
       "      <th></th>\n",
       "      <th>ID_x</th>\n",
       "      <th>Unnamed: 1</th>\n",
       "      <th>loc_id</th>\n",
       "      <th>place_id</th>\n",
       "      <th>u_id</th>\n",
       "      <th>age</th>\n",
       "      <th>age_c</th>\n",
       "      <th>happy</th>\n",
       "      <th>p_count</th>\n",
       "      <th>face_size</th>\n",
       "      <th>x</th>\n",
       "      <th>y</th>\n",
       "      <th>f_count</th>\n",
       "      <th>capture_time</th>\n",
       "      <th>local_time</th>\n",
       "      <th>Capture_Time_15_Second_Level</th>\n",
       "      <th>Capture time minute level</th>\n",
       "      <th>time_zone</th>\n",
       "      <th>gender</th>\n",
       "      <th>anger</th>\n",
       "      <th>surprise</th>\n",
       "      <th>sad</th>\n",
       "      <th>u_id_pasted</th>\n",
       "      <th>ID_y</th>\n",
       "      <th>RCPE_NM</th>\n",
       "      <th>EQPMT_TX_DTM</th>\n",
       "      <th>EQPMT_TX_ID</th>\n",
       "      <th>RCPE_ID</th>\n",
       "      <th>INVEN_TX_CMPNT_QTY</th>\n",
       "      <th>Time Minute Level</th>\n",
       "    </tr>\n",
       "  </thead>\n",
       "  <tbody>\n",
       "    <tr>\n",
       "      <th>0</th>\n",
       "      <td>10993</td>\n",
       "      <td>16147</td>\n",
       "      <td>28</td>\n",
       "      <td>36</td>\n",
       "      <td>125-1495378460</td>\n",
       "      <td>44</td>\n",
       "      <td>16</td>\n",
       "      <td>NaN</td>\n",
       "      <td>1</td>\n",
       "      <td>0.441786</td>\n",
       "      <td>96</td>\n",
       "      <td>28</td>\n",
       "      <td>2</td>\n",
       "      <td>5/21/2017 9:54</td>\n",
       "      <td>2017-05-21 04:54:20</td>\n",
       "      <td>2017-05-21 09:54:15</td>\n",
       "      <td>5/21/2017 9:54:00</td>\n",
       "      <td>-5</td>\n",
       "      <td>NaN</td>\n",
       "      <td>NaN</td>\n",
       "      <td>NaN</td>\n",
       "      <td>NaN</td>\n",
       "      <td>1.251495e+12</td>\n",
       "      <td>2</td>\n",
       "      <td>Water</td>\n",
       "      <td>5/21/2017 9:54</td>\n",
       "      <td>24982563</td>\n",
       "      <td>58</td>\n",
       "      <td>10.2326</td>\n",
       "      <td>5/21/17 9:54:00</td>\n",
       "    </tr>\n",
       "    <tr>\n",
       "      <th>1</th>\n",
       "      <td>10993</td>\n",
       "      <td>16147</td>\n",
       "      <td>28</td>\n",
       "      <td>36</td>\n",
       "      <td>125-1495378460</td>\n",
       "      <td>44</td>\n",
       "      <td>16</td>\n",
       "      <td>NaN</td>\n",
       "      <td>1</td>\n",
       "      <td>0.441786</td>\n",
       "      <td>96</td>\n",
       "      <td>28</td>\n",
       "      <td>2</td>\n",
       "      <td>5/21/2017 9:54</td>\n",
       "      <td>2017-05-21 04:54:20</td>\n",
       "      <td>2017-05-21 09:54:15</td>\n",
       "      <td>5/21/2017 9:54:00</td>\n",
       "      <td>-5</td>\n",
       "      <td>NaN</td>\n",
       "      <td>NaN</td>\n",
       "      <td>NaN</td>\n",
       "      <td>NaN</td>\n",
       "      <td>1.251495e+12</td>\n",
       "      <td>3</td>\n",
       "      <td>Water</td>\n",
       "      <td>5/21/2017 9:54</td>\n",
       "      <td>24982594</td>\n",
       "      <td>58</td>\n",
       "      <td>8.6047</td>\n",
       "      <td>5/21/17 9:54:00</td>\n",
       "    </tr>\n",
       "    <tr>\n",
       "      <th>2</th>\n",
       "      <td>10994</td>\n",
       "      <td>16146</td>\n",
       "      <td>28</td>\n",
       "      <td>36</td>\n",
       "      <td>125-1495378460</td>\n",
       "      <td>43</td>\n",
       "      <td>15</td>\n",
       "      <td>25.0</td>\n",
       "      <td>1</td>\n",
       "      <td>0.441786</td>\n",
       "      <td>97</td>\n",
       "      <td>28</td>\n",
       "      <td>2</td>\n",
       "      <td>5/21/2017 9:54</td>\n",
       "      <td>2017-05-21 04:54:21</td>\n",
       "      <td>2017-05-21 09:54:15</td>\n",
       "      <td>5/21/2017 9:54:00</td>\n",
       "      <td>-5</td>\n",
       "      <td>1.0</td>\n",
       "      <td>NaN</td>\n",
       "      <td>NaN</td>\n",
       "      <td>NaN</td>\n",
       "      <td>1.251495e+12</td>\n",
       "      <td>2</td>\n",
       "      <td>Water</td>\n",
       "      <td>5/21/2017 9:54</td>\n",
       "      <td>24982563</td>\n",
       "      <td>58</td>\n",
       "      <td>10.2326</td>\n",
       "      <td>5/21/17 9:54:00</td>\n",
       "    </tr>\n",
       "    <tr>\n",
       "      <th>3</th>\n",
       "      <td>10994</td>\n",
       "      <td>16146</td>\n",
       "      <td>28</td>\n",
       "      <td>36</td>\n",
       "      <td>125-1495378460</td>\n",
       "      <td>43</td>\n",
       "      <td>15</td>\n",
       "      <td>25.0</td>\n",
       "      <td>1</td>\n",
       "      <td>0.441786</td>\n",
       "      <td>97</td>\n",
       "      <td>28</td>\n",
       "      <td>2</td>\n",
       "      <td>5/21/2017 9:54</td>\n",
       "      <td>2017-05-21 04:54:21</td>\n",
       "      <td>2017-05-21 09:54:15</td>\n",
       "      <td>5/21/2017 9:54:00</td>\n",
       "      <td>-5</td>\n",
       "      <td>1.0</td>\n",
       "      <td>NaN</td>\n",
       "      <td>NaN</td>\n",
       "      <td>NaN</td>\n",
       "      <td>1.251495e+12</td>\n",
       "      <td>3</td>\n",
       "      <td>Water</td>\n",
       "      <td>5/21/2017 9:54</td>\n",
       "      <td>24982594</td>\n",
       "      <td>58</td>\n",
       "      <td>8.6047</td>\n",
       "      <td>5/21/17 9:54:00</td>\n",
       "    </tr>\n",
       "    <tr>\n",
       "      <th>4</th>\n",
       "      <td>10995</td>\n",
       "      <td>16143</td>\n",
       "      <td>28</td>\n",
       "      <td>36</td>\n",
       "      <td>126-1495378537</td>\n",
       "      <td>54</td>\n",
       "      <td>13</td>\n",
       "      <td>NaN</td>\n",
       "      <td>1</td>\n",
       "      <td>0.441786</td>\n",
       "      <td>43</td>\n",
       "      <td>6</td>\n",
       "      <td>3</td>\n",
       "      <td>5/21/2017 9:55</td>\n",
       "      <td>2017-05-21 04:55:38</td>\n",
       "      <td>2017-05-21 09:55:45</td>\n",
       "      <td>5/21/2017 9:56:00</td>\n",
       "      <td>-5</td>\n",
       "      <td>NaN</td>\n",
       "      <td>NaN</td>\n",
       "      <td>NaN</td>\n",
       "      <td>NaN</td>\n",
       "      <td>1.261495e+12</td>\n",
       "      <td>7</td>\n",
       "      <td>Sweet Tea</td>\n",
       "      <td>5/21/2017 9:55</td>\n",
       "      <td>24982509</td>\n",
       "      <td>43</td>\n",
       "      <td>1.5453</td>\n",
       "      <td>5/21/17 9:56:00</td>\n",
       "    </tr>\n",
       "    <tr>\n",
       "      <th>5</th>\n",
       "      <td>10995</td>\n",
       "      <td>16143</td>\n",
       "      <td>28</td>\n",
       "      <td>36</td>\n",
       "      <td>126-1495378537</td>\n",
       "      <td>54</td>\n",
       "      <td>13</td>\n",
       "      <td>NaN</td>\n",
       "      <td>1</td>\n",
       "      <td>0.441786</td>\n",
       "      <td>43</td>\n",
       "      <td>6</td>\n",
       "      <td>3</td>\n",
       "      <td>5/21/2017 9:55</td>\n",
       "      <td>2017-05-21 04:55:38</td>\n",
       "      <td>2017-05-21 09:55:45</td>\n",
       "      <td>5/21/2017 9:56:00</td>\n",
       "      <td>-5</td>\n",
       "      <td>NaN</td>\n",
       "      <td>NaN</td>\n",
       "      <td>NaN</td>\n",
       "      <td>NaN</td>\n",
       "      <td>1.261495e+12</td>\n",
       "      <td>8</td>\n",
       "      <td>Aquafina Sparkling</td>\n",
       "      <td>5/21/2017 9:55</td>\n",
       "      <td>24982597</td>\n",
       "      <td>38</td>\n",
       "      <td>26.7442</td>\n",
       "      <td>5/21/17 9:56:00</td>\n",
       "    </tr>\n",
       "    <tr>\n",
       "      <th>6</th>\n",
       "      <td>10996</td>\n",
       "      <td>16144</td>\n",
       "      <td>28</td>\n",
       "      <td>36</td>\n",
       "      <td>126-1495378537</td>\n",
       "      <td>54</td>\n",
       "      <td>13</td>\n",
       "      <td>NaN</td>\n",
       "      <td>1</td>\n",
       "      <td>0.458300</td>\n",
       "      <td>43</td>\n",
       "      <td>6</td>\n",
       "      <td>1</td>\n",
       "      <td>5/21/2017 9:55</td>\n",
       "      <td>2017-05-21 04:55:38</td>\n",
       "      <td>2017-05-21 09:55:45</td>\n",
       "      <td>5/21/2017 9:56:00</td>\n",
       "      <td>-5</td>\n",
       "      <td>-1.0</td>\n",
       "      <td>NaN</td>\n",
       "      <td>NaN</td>\n",
       "      <td>NaN</td>\n",
       "      <td>1.261495e+12</td>\n",
       "      <td>7</td>\n",
       "      <td>Sweet Tea</td>\n",
       "      <td>5/21/2017 9:55</td>\n",
       "      <td>24982509</td>\n",
       "      <td>43</td>\n",
       "      <td>1.5453</td>\n",
       "      <td>5/21/17 9:56:00</td>\n",
       "    </tr>\n",
       "    <tr>\n",
       "      <th>7</th>\n",
       "      <td>10996</td>\n",
       "      <td>16144</td>\n",
       "      <td>28</td>\n",
       "      <td>36</td>\n",
       "      <td>126-1495378537</td>\n",
       "      <td>54</td>\n",
       "      <td>13</td>\n",
       "      <td>NaN</td>\n",
       "      <td>1</td>\n",
       "      <td>0.458300</td>\n",
       "      <td>43</td>\n",
       "      <td>6</td>\n",
       "      <td>1</td>\n",
       "      <td>5/21/2017 9:55</td>\n",
       "      <td>2017-05-21 04:55:38</td>\n",
       "      <td>2017-05-21 09:55:45</td>\n",
       "      <td>5/21/2017 9:56:00</td>\n",
       "      <td>-5</td>\n",
       "      <td>-1.0</td>\n",
       "      <td>NaN</td>\n",
       "      <td>NaN</td>\n",
       "      <td>NaN</td>\n",
       "      <td>1.261495e+12</td>\n",
       "      <td>8</td>\n",
       "      <td>Aquafina Sparkling</td>\n",
       "      <td>5/21/2017 9:55</td>\n",
       "      <td>24982597</td>\n",
       "      <td>38</td>\n",
       "      <td>26.7442</td>\n",
       "      <td>5/21/17 9:56:00</td>\n",
       "    </tr>\n",
       "    <tr>\n",
       "      <th>8</th>\n",
       "      <td>10997</td>\n",
       "      <td>16145</td>\n",
       "      <td>28</td>\n",
       "      <td>36</td>\n",
       "      <td>126-1495378537</td>\n",
       "      <td>54</td>\n",
       "      <td>13</td>\n",
       "      <td>NaN</td>\n",
       "      <td>1</td>\n",
       "      <td>0.450006</td>\n",
       "      <td>43</td>\n",
       "      <td>6</td>\n",
       "      <td>1</td>\n",
       "      <td>5/21/2017 9:55</td>\n",
       "      <td>2017-05-21 04:55:38</td>\n",
       "      <td>2017-05-21 09:55:45</td>\n",
       "      <td>5/21/2017 9:56:00</td>\n",
       "      <td>-5</td>\n",
       "      <td>1.0</td>\n",
       "      <td>NaN</td>\n",
       "      <td>NaN</td>\n",
       "      <td>NaN</td>\n",
       "      <td>1.261495e+12</td>\n",
       "      <td>7</td>\n",
       "      <td>Sweet Tea</td>\n",
       "      <td>5/21/2017 9:55</td>\n",
       "      <td>24982509</td>\n",
       "      <td>43</td>\n",
       "      <td>1.5453</td>\n",
       "      <td>5/21/17 9:56:00</td>\n",
       "    </tr>\n",
       "    <tr>\n",
       "      <th>9</th>\n",
       "      <td>10997</td>\n",
       "      <td>16145</td>\n",
       "      <td>28</td>\n",
       "      <td>36</td>\n",
       "      <td>126-1495378537</td>\n",
       "      <td>54</td>\n",
       "      <td>13</td>\n",
       "      <td>NaN</td>\n",
       "      <td>1</td>\n",
       "      <td>0.450006</td>\n",
       "      <td>43</td>\n",
       "      <td>6</td>\n",
       "      <td>1</td>\n",
       "      <td>5/21/2017 9:55</td>\n",
       "      <td>2017-05-21 04:55:38</td>\n",
       "      <td>2017-05-21 09:55:45</td>\n",
       "      <td>5/21/2017 9:56:00</td>\n",
       "      <td>-5</td>\n",
       "      <td>1.0</td>\n",
       "      <td>NaN</td>\n",
       "      <td>NaN</td>\n",
       "      <td>NaN</td>\n",
       "      <td>1.261495e+12</td>\n",
       "      <td>8</td>\n",
       "      <td>Aquafina Sparkling</td>\n",
       "      <td>5/21/2017 9:55</td>\n",
       "      <td>24982597</td>\n",
       "      <td>38</td>\n",
       "      <td>26.7442</td>\n",
       "      <td>5/21/17 9:56:00</td>\n",
       "    </tr>\n",
       "  </tbody>\n",
       "</table>\n",
       "</div>"
      ],
      "text/plain": [
       "    ID_x  Unnamed: 1  loc_id  place_id            u_id  age  age_c  happy  \\\n",
       "0  10993       16147      28        36  125-1495378460   44     16    NaN   \n",
       "1  10993       16147      28        36  125-1495378460   44     16    NaN   \n",
       "2  10994       16146      28        36  125-1495378460   43     15   25.0   \n",
       "3  10994       16146      28        36  125-1495378460   43     15   25.0   \n",
       "4  10995       16143      28        36  126-1495378537   54     13    NaN   \n",
       "5  10995       16143      28        36  126-1495378537   54     13    NaN   \n",
       "6  10996       16144      28        36  126-1495378537   54     13    NaN   \n",
       "7  10996       16144      28        36  126-1495378537   54     13    NaN   \n",
       "8  10997       16145      28        36  126-1495378537   54     13    NaN   \n",
       "9  10997       16145      28        36  126-1495378537   54     13    NaN   \n",
       "\n",
       "   p_count  face_size   x   y  f_count    capture_time          local_time  \\\n",
       "0        1   0.441786  96  28        2  5/21/2017 9:54 2017-05-21 04:54:20   \n",
       "1        1   0.441786  96  28        2  5/21/2017 9:54 2017-05-21 04:54:20   \n",
       "2        1   0.441786  97  28        2  5/21/2017 9:54 2017-05-21 04:54:21   \n",
       "3        1   0.441786  97  28        2  5/21/2017 9:54 2017-05-21 04:54:21   \n",
       "4        1   0.441786  43   6        3  5/21/2017 9:55 2017-05-21 04:55:38   \n",
       "5        1   0.441786  43   6        3  5/21/2017 9:55 2017-05-21 04:55:38   \n",
       "6        1   0.458300  43   6        1  5/21/2017 9:55 2017-05-21 04:55:38   \n",
       "7        1   0.458300  43   6        1  5/21/2017 9:55 2017-05-21 04:55:38   \n",
       "8        1   0.450006  43   6        1  5/21/2017 9:55 2017-05-21 04:55:38   \n",
       "9        1   0.450006  43   6        1  5/21/2017 9:55 2017-05-21 04:55:38   \n",
       "\n",
       "  Capture_Time_15_Second_Level Capture time minute level  time_zone  gender  \\\n",
       "0          2017-05-21 09:54:15         5/21/2017 9:54:00         -5     NaN   \n",
       "1          2017-05-21 09:54:15         5/21/2017 9:54:00         -5     NaN   \n",
       "2          2017-05-21 09:54:15         5/21/2017 9:54:00         -5     1.0   \n",
       "3          2017-05-21 09:54:15         5/21/2017 9:54:00         -5     1.0   \n",
       "4          2017-05-21 09:55:45         5/21/2017 9:56:00         -5     NaN   \n",
       "5          2017-05-21 09:55:45         5/21/2017 9:56:00         -5     NaN   \n",
       "6          2017-05-21 09:55:45         5/21/2017 9:56:00         -5    -1.0   \n",
       "7          2017-05-21 09:55:45         5/21/2017 9:56:00         -5    -1.0   \n",
       "8          2017-05-21 09:55:45         5/21/2017 9:56:00         -5     1.0   \n",
       "9          2017-05-21 09:55:45         5/21/2017 9:56:00         -5     1.0   \n",
       "\n",
       "   anger  surprise  sad   u_id_pasted  ID_y             RCPE_NM  \\\n",
       "0    NaN       NaN  NaN  1.251495e+12     2               Water   \n",
       "1    NaN       NaN  NaN  1.251495e+12     3               Water   \n",
       "2    NaN       NaN  NaN  1.251495e+12     2               Water   \n",
       "3    NaN       NaN  NaN  1.251495e+12     3               Water   \n",
       "4    NaN       NaN  NaN  1.261495e+12     7           Sweet Tea   \n",
       "5    NaN       NaN  NaN  1.261495e+12     8  Aquafina Sparkling   \n",
       "6    NaN       NaN  NaN  1.261495e+12     7           Sweet Tea   \n",
       "7    NaN       NaN  NaN  1.261495e+12     8  Aquafina Sparkling   \n",
       "8    NaN       NaN  NaN  1.261495e+12     7           Sweet Tea   \n",
       "9    NaN       NaN  NaN  1.261495e+12     8  Aquafina Sparkling   \n",
       "\n",
       "     EQPMT_TX_DTM  EQPMT_TX_ID  RCPE_ID  INVEN_TX_CMPNT_QTY Time Minute Level  \n",
       "0  5/21/2017 9:54     24982563       58             10.2326   5/21/17 9:54:00  \n",
       "1  5/21/2017 9:54     24982594       58              8.6047   5/21/17 9:54:00  \n",
       "2  5/21/2017 9:54     24982563       58             10.2326   5/21/17 9:54:00  \n",
       "3  5/21/2017 9:54     24982594       58              8.6047   5/21/17 9:54:00  \n",
       "4  5/21/2017 9:55     24982509       43              1.5453   5/21/17 9:56:00  \n",
       "5  5/21/2017 9:55     24982597       38             26.7442   5/21/17 9:56:00  \n",
       "6  5/21/2017 9:55     24982509       43              1.5453   5/21/17 9:56:00  \n",
       "7  5/21/2017 9:55     24982597       38             26.7442   5/21/17 9:56:00  \n",
       "8  5/21/2017 9:55     24982509       43              1.5453   5/21/17 9:56:00  \n",
       "9  5/21/2017 9:55     24982597       38             26.7442   5/21/17 9:56:00  "
      ]
     },
     "execution_count": 24,
     "metadata": {},
     "output_type": "execute_result"
    }
   ],
   "source": [
    "print(eyeq_sync_spire.shape)\n",
    "eyeq_sync_spire.head(10)"
   ]
  },
  {
   "cell_type": "code",
   "execution_count": null,
   "metadata": {
    "collapsed": true
   },
   "outputs": [],
   "source": []
  }
 ],
 "metadata": {
  "kernelspec": {
   "display_name": "Python 3",
   "language": "python",
   "name": "python3"
  },
  "language_info": {
   "codemirror_mode": {
    "name": "ipython",
    "version": 3
   },
   "file_extension": ".py",
   "mimetype": "text/x-python",
   "name": "python",
   "nbconvert_exporter": "python",
   "pygments_lexer": "ipython3",
   "version": "3.6.1"
  }
 },
 "nbformat": 4,
 "nbformat_minor": 2
}
